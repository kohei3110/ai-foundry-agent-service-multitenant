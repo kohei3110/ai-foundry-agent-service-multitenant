{
 "cells": [
  {
   "cell_type": "markdown",
   "id": "2b5f666a",
   "metadata": {},
   "source": [
    "# Segragate your tenants by namespace and by nodes\n",
    "\n",
    "### Prerequisites\n",
    "1. An AKS cluster (you can create them on the console or via the CLI)\n",
    "2. az cli installed and logged in\n",
    "3. A storage account with two folders. Example: \\\n",
    "    ngjasonmultistorage (storage account) \\\n",
    "        - tenanta (container) \\\n",
    "        - tenantb (container)\n",
    "4. Upload random files to tenanta and tenantb container\n",
    "5. You have a bash kernel if you are running on windows wsl\n",
    "\n",
    "### What you will create\n",
    "1. Create nodes with taints for each specific tenant\n",
    "2. Create tolerations and node selectors on pod manifest so that they get deployed on the respective tenant node pool (app isolation)\n",
    "3. Create managed identities, the pods will use the identity via WorkloadIdentityCredential to connect to blob storage\n",
    "4. Create service accounts to manage federated credentials\n",
    "5. Create RBAC and ABAC and assigned them to respective managed identities\n",
    "\n",
    "![image.png](image.png)"
   ]
  },
  {
   "cell_type": "markdown",
   "id": "ae9b469c",
   "metadata": {},
   "source": [
    "## Connect to your cluster and export variables. Replace with your own values"
   ]
  },
  {
   "cell_type": "code",
   "execution_count": null,
   "id": "8733ed2e",
   "metadata": {},
   "outputs": [],
   "source": [
    "%env cluster_name=ngjasonaks-cluster\n",
    "%env resource_group=aks-gpu\n",
    "%env storage_account_name=ngjasonmultistorage\n",
    "%env tenant_a_container=tenanta\n",
    "%env tenant_b_container=tenantb\n",
    "%env subscription_id=bb608350-d9c5-4b2a-b61e-6df4034dbf07"
   ]
  },
  {
   "cell_type": "code",
   "execution_count": null,
   "id": "dd1b4ede",
   "metadata": {},
   "outputs": [],
   "source": [
    "%%bash\n",
    "echo $cluster_name\n",
    "echo $resource_group\n",
    "echo $storage_account_name\n",
    "echo $tenant_a_container\n",
    "echo $tenant_b_container\n",
    "echo $subscription_id"
   ]
  },
  {
   "cell_type": "markdown",
   "id": "89754378",
   "metadata": {},
   "source": [
    "## Connect to your cluster - Open a terminal where this jupyter notebook is running and run the command so that kubectl persists across all cells."
   ]
  },
  {
   "cell_type": "markdown",
   "id": "47bc5abe",
   "metadata": {},
   "source": [
    "```\n",
    "az aks get-credentials --name $cluster_name -g $resource_group\n",
    "```"
   ]
  },
  {
   "cell_type": "markdown",
   "id": "b3e297c2",
   "metadata": {},
   "source": [
    "## Enable workload identity on the cluster (This is a one-time setup and can take a while to complete, skip if you have already enabled this before)"
   ]
  },
  {
   "cell_type": "code",
   "execution_count": null,
   "id": "2b121052",
   "metadata": {},
   "outputs": [],
   "source": [
    "%%bash\n",
    "az aks update --resource-group $resource_group --name $cluster_name \\\n",
    "  --enable-oidc-issuer \\\n",
    "  --enable-workload-identity\n"
   ]
  },
  {
   "cell_type": "markdown",
   "id": "a464532c",
   "metadata": {},
   "source": [
    "## Create namespaces for each tenant"
   ]
  },
  {
   "cell_type": "code",
   "execution_count": null,
   "id": "dd3924ef",
   "metadata": {},
   "outputs": [],
   "source": [
    "%%bash\n",
    "kubectl create namespace tenant-a\n",
    "kubectl create namespace tenant-b"
   ]
  },
  {
   "cell_type": "markdown",
   "id": "1cb808bd",
   "metadata": {},
   "source": [
    "## Create two node pools, one for each tenant"
   ]
  },
  {
   "cell_type": "code",
   "execution_count": null,
   "id": "52d89115",
   "metadata": {},
   "outputs": [],
   "source": [
    "%%bash\n",
    "az aks nodepool add \\\n",
    "  --name tenantpoola \\\n",
    "  --cluster-name $cluster_name \\\n",
    "  --resource-group $resource_group \\\n",
    "  --node-taints tenantid=tenanta:NoSchedule \\\n",
    "  --labels tenantid=tenanta\n",
    "\n",
    "az aks nodepool add \\\n",
    "  --name tenantpoolb \\\n",
    "  --cluster-name $cluster_name \\\n",
    "  --resource-group $resource_group \\\n",
    "  --node-taints tenantid=tenantb:NoSchedule \\\n",
    "  --labels tenantid=tenantb"
   ]
  },
  {
   "cell_type": "markdown",
   "id": "c20e3c0a",
   "metadata": {},
   "source": [
    "## Create managed identities for each tenant"
   ]
  },
  {
   "cell_type": "code",
   "execution_count": null,
   "id": "59422f43",
   "metadata": {},
   "outputs": [],
   "source": [
    "%%bash\n",
    "az identity create --resource-group aks-gpu --name mi-tenant-a\n",
    "az identity create --resource-group aks-gpu --name mi-tenant-b"
   ]
  },
  {
   "cell_type": "markdown",
   "id": "ceb7c81c",
   "metadata": {},
   "source": [
    "## Create RBAC and ABAC policies for each container within blob storage allowing managed identity to connect"
   ]
  },
  {
   "cell_type": "code",
   "execution_count": null,
   "id": "bdbb3117",
   "metadata": {},
   "outputs": [],
   "source": [
    "%%bash\n",
    "az role assignment create \\\n",
    "  --assignee $(az identity show --name mi-tenant-a --resource-group aks-gpu --query principalId -o tsv) \\\n",
    "  --role \"Storage Blob Data Contributor\" \\\n",
    "  --scope \"/subscriptions/${subscription_id}/resourceGroups/${resource_group}/providers/Microsoft.Storage/storageAccounts/${storage_account_name}/blobServices/default/containers/tenanta\" \\\n",
    "  --condition \"((!(ActionMatches{'Microsoft.Storage/storageAccounts/blobServices/containers/blobs/*'})) OR (@Resource[Microsoft.Storage/storageAccounts/blobServices/containers:name] StringEquals 'tenanta'))\" \\\n",
    "  --condition-version \"2.0\"\n",
    "  \n",
    "az role assignment create \\\n",
    "  --assignee $(az identity show --name mi-tenant-b --resource-group aks-gpu --query principalId -o tsv) \\\n",
    "  --role \"Storage Blob Data Contributor\" \\\n",
    "  --scope \"/subscriptions/${subscription_id}/resourceGroups/${resource_group}/providers/Microsoft.Storage/storageAccounts/${storage_account_name}/blobServices/default/containers/tenantb\" \\\n",
    "  --condition \"((!(ActionMatches{'Microsoft.Storage/storageAccounts/blobServices/containers/blobs/*'})) OR (@Resource[Microsoft.Storage/storageAccounts/blobServices/containers:name] StringEquals 'tenantb'))\" \\\n",
    "  --condition-version \"2.0\""
   ]
  },
  {
   "cell_type": "markdown",
   "id": "42461e74",
   "metadata": {},
   "source": [
    "## Create Service account and federated credential. Pods will use service account to obtain temporary credentials via OIDC"
   ]
  },
  {
   "cell_type": "code",
   "execution_count": null,
   "id": "f7e9da0f",
   "metadata": {},
   "outputs": [],
   "source": [
    "%%bash\n",
    "export tenant_a_identity_id=$(az identity show --name mi-tenant-a --resource-group $resource_group --query clientId -o tsv)\n",
    "export tenant_b_identity_id=$(az identity show --name mi-tenant-b --resource-group $resource_group --query clientId -o tsv)\n",
    "\n",
    "kubectl apply -n tenant-a -f - <<EOF\n",
    "apiVersion: v1\n",
    "kind: ServiceAccount\n",
    "metadata:\n",
    "  name: storage-access-sa-tenant-a\n",
    "  namespace: tenant-a\n",
    "  annotations:\n",
    "    azure.workload.identity/client-id: $tenant_a_identity_id\n",
    "  labels:\n",
    "    azure.workload.identity/use: \"true\"\n",
    "EOF\n",
    "\n",
    "kubectl apply -n tenant-b -f - <<EOF\n",
    "apiVersion: v1\n",
    "kind: ServiceAccount\n",
    "metadata:\n",
    "  name: storage-access-sa-tenant-b\n",
    "  namespace: tenant-b\n",
    "  annotations:\n",
    "    azure.workload.identity/client-id: $tenant_b_identity_id\n",
    "  labels:\n",
    "    azure.workload.identity/use: \"true\"\n",
    "EOF"
   ]
  },
  {
   "cell_type": "code",
   "execution_count": null,
   "id": "e78160fd",
   "metadata": {},
   "outputs": [],
   "source": [
    "%%bash\n",
    "export SERVICE_ACCOUNT_ISSUER=$(az aks show \\\n",
    "  --resource-group $resource_group \\\n",
    "  --name $cluster_name \\\n",
    "  --query oidcIssuerProfile.issuerUrl -o tsv)\n",
    "\n",
    "echo $SERVICE_ACCOUNT_ISSUER\n",
    "\n",
    "az identity federated-credential create \\\n",
    "  --name \"aks-federated-credential\" \\\n",
    "  --identity-name mi-tenant-a \\\n",
    "  --resource-group $resource_group \\\n",
    "  --issuer $SERVICE_ACCOUNT_ISSUER \\\n",
    "  --subject \"system:serviceaccount:tenant-a:storage-access-sa-tenant-a\"\n",
    "\n",
    "az identity federated-credential create \\\n",
    "  --name \"aks-federated-credential\" \\\n",
    "  --identity-name mi-tenant-b \\\n",
    "  --resource-group $resource_group \\\n",
    "  --issuer $SERVICE_ACCOUNT_ISSUER \\\n",
    "  --subject \"system:serviceaccount:tenant-b:storage-access-sa-tenant-b\""
   ]
  },
  {
   "cell_type": "markdown",
   "id": "8daa8dfa",
   "metadata": {},
   "source": [
    "## Create test pods"
   ]
  },
  {
   "cell_type": "markdown",
   "id": "5cbf8ae5",
   "metadata": {},
   "source": [
    "## Check that pods are scheduled on the correct node"
   ]
  },
  {
   "cell_type": "code",
   "execution_count": null,
   "id": "2162b257",
   "metadata": {},
   "outputs": [],
   "source": [
    "%%bash\n",
    "\n",
    "kubectl apply -n tenant-a -f - <<EOF\n",
    "apiVersion: apps/v1\n",
    "kind: Deployment\n",
    "metadata:\n",
    "  name: tenant-a-app\n",
    "  labels:\n",
    "    azure.workload.identity/use: \"true\"  # Required for workload identity\n",
    "spec:\n",
    "  selector:\n",
    "    matchLabels:\n",
    "      tenantid: tenanta\n",
    "  template:\n",
    "    metadata:\n",
    "      labels:\n",
    "        tenantid: tenanta\n",
    "        azure.workload.identity/use: \"true\"  # Must be on pod template\n",
    "    spec:\n",
    "      serviceAccountName: storage-access-sa-tenant-a  # Reference your service account\n",
    "      nodeSelector:\n",
    "        tenantid: tenanta\n",
    "      tolerations:\n",
    "      - key: \"tenantid\"\n",
    "        operator: \"Equal\"\n",
    "        value: \"tenanta\"\n",
    "        effect: \"NoSchedule\"\n",
    "      containers:\n",
    "      - name: nginx\n",
    "        image: nginx\n",
    "EOF\n",
    "\n",
    "kubectl apply -n tenant-b -f - <<EOF\n",
    "apiVersion: apps/v1\n",
    "kind: Deployment\n",
    "metadata:\n",
    "  name: tenant-b-app\n",
    "  labels:\n",
    "    azure.workload.identity/use: \"true\"  # Required for workload identity\n",
    "spec:\n",
    "  selector:\n",
    "    matchLabels:\n",
    "      tenantid: tenantb\n",
    "  template:\n",
    "    metadata:\n",
    "      labels:\n",
    "        tenantid: tenantb\n",
    "        azure.workload.identity/use: \"true\"  # Must be on pod template\n",
    "    spec:\n",
    "      serviceAccountName: storage-access-sa-tenant-b  # Reference your service account\n",
    "      nodeSelector:\n",
    "        tenantid: tenantb\n",
    "      tolerations:\n",
    "      - key: \"tenantid\"\n",
    "        operator: \"Equal\"\n",
    "        value: \"tenantb\"\n",
    "        effect: \"NoSchedule\"\n",
    "      containers:\n",
    "      - name: nginx\n",
    "        image: nginx\n",
    "EOF"
   ]
  },
  {
   "cell_type": "markdown",
   "id": "66bf1409",
   "metadata": {},
   "source": [
    "### If you see your pods stuck in pending state, it is most likely that you dont have the correct labels on the nodes. Check from the portal if the taints and labels are set correctly"
   ]
  },
  {
   "cell_type": "code",
   "execution_count": null,
   "id": "b4156edb",
   "metadata": {},
   "outputs": [],
   "source": [
    "%%bash\n",
    "kubectl get pods -o wide -n tenant-a\n",
    "kubectl get pods -o wide -n tenant-b"
   ]
  },
  {
   "cell_type": "markdown",
   "id": "3fa2d97a",
   "metadata": {},
   "source": []
  },
  {
   "cell_type": "markdown",
   "id": "53e1c112",
   "metadata": {},
   "source": [
    "## Test out the tenant isolation. Open your terminal and run the following commands to execute a bash session into tenant-a pod\n"
   ]
  },
  {
   "cell_type": "code",
   "execution_count": null,
   "id": "334d85e7",
   "metadata": {},
   "outputs": [],
   "source": [
    "%%bash\n",
    "export tenant_a_pod=$(kubectl get pods -n tenant-a -o jsonpath='{.items[0].metadata.name}')\n",
    "kubectl cp -n tenant-a  ./app.py $tenant_a_pod:/tmp/app.py\n",
    "kubectl cp -n tenant-a  ./install.sh $tenant_a_pod:/tmp/install.sh\n",
    "kubectl exec -it pod/$tenant_a_pod -n tenant-a -- /bin/bash -c \"chmod +x /tmp/install.sh && /tmp/install.sh\""
   ]
  },
  {
   "cell_type": "code",
   "execution_count": null,
   "id": "dc71d749",
   "metadata": {},
   "outputs": [],
   "source": [
    "%%bash\n",
    "export tenant_b_pod=$(kubectl get pods -n tenant-b -o jsonpath='{.items[0].metadata.name}')\n",
    "kubectl cp -n tenant-b  ./app.py $tenant_b_pod:/tmp/app.py\n",
    "kubectl exec -it pod/$tenant_b_pod -n tenant-b -- /bin/bash -c \"chmod +x /tmp/install.sh && /tmp/install.sh\""
   ]
  },
  {
   "cell_type": "markdown",
   "id": "0ec52472",
   "metadata": {},
   "source": [
    "### Test connection to blob storage.\n",
    "\n",
    "Expected results:\\\n",
    "pod A -> tenant A container ✅ \\\n",
    "pod A -> tenant B container ❌ \\\n",
    "\\\n",
    "pod B -> tenant A container ❌ \\\n",
    "pod B -> tenant B container ✅"
   ]
  },
  {
   "cell_type": "code",
   "execution_count": null,
   "id": "e468a5b7",
   "metadata": {},
   "outputs": [],
   "source": [
    "%%bash\n",
    "export tenant_a_pod=$(kubectl get pods -n tenant-a -o jsonpath='{.items[0].metadata.name}')\n",
    "kubectl exec -it pod/$tenant_a_pod -n tenant-a -- /bin/bash -c \"python3 /tmp/app.py\""
   ]
  },
  {
   "cell_type": "code",
   "execution_count": null,
   "id": "b2198698",
   "metadata": {},
   "outputs": [],
   "source": [
    "%%bash\n",
    "export tenant_b_pod=$(kubectl get pods -n tenant-b -o jsonpath='{.items[0].metadata.name}')\n",
    "kubectl exec -it pod/$tenant_b_pod -n tenant-b -- /bin/bash -c \"python3 /tmp/app.py\""
   ]
  },
  {
   "cell_type": "markdown",
   "id": "b4cf8960",
   "metadata": {},
   "source": []
  }
 ],
 "metadata": {
  "kernelspec": {
   "display_name": "venv",
   "language": "python",
   "name": "python3"
  },
  "language_info": {
   "codemirror_mode": {
    "name": "ipython",
    "version": 3
   },
   "file_extension": ".py",
   "mimetype": "text/x-python",
   "name": "python",
   "nbconvert_exporter": "python",
   "pygments_lexer": "ipython3",
   "version": "3.12.3"
  }
 },
 "nbformat": 4,
 "nbformat_minor": 5
}
