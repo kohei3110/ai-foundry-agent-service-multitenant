{
 "cells": [
  {
   "cell_type": "markdown",
   "id": "2b5f666a",
   "metadata": {},
   "source": [
    "# Segragate your tenants by namespace and by nodes\n",
    "\n",
    "### Prerequisites\n",
    "1. An AKS cluster (you can create them on the console or via the CLI)\n",
    "2. az cli installed and logged in\n",
    "3. A storage account with two folders. Example: \\\n",
    "    ngjasonmultistorage (storage account) \\\n",
    "        - tenanta (container) \\\n",
    "        - tenantb (container)\n",
    "4. Upload random files to tenanta and tenantb container\n",
    "5. You have a bash kernel if you are running on windows wsl\n",
    "6. AI foundry project with gpt-4.1 and gpt-4.1-mini (or any model that you want, just substitute within main.py)\n",
    "\n",
    "### What you will create\n",
    "1. Create nodes with taints and labels for each specific tenant\n",
    "2. Create tolerations and node selectors on pod manifest so that they get deployed on the respective tenant node pool (app isolation)\n",
    "3. Create managed identities, the pods will use the identity via WorkloadIdentityCredential to connect to blob storage\n",
    "4. Create service accounts to manage federated credentials\n",
    "5. Create RBAC and ABAC and assigned them to respective managed identities (storage isolation)\n",
    "\n",
    "![image.png](image.png)"
   ]
  },
  {
   "cell_type": "markdown",
   "id": "ae9b469c",
   "metadata": {},
   "source": [
    "## Connect to your cluster and export variables. Replace with your own values"
   ]
  },
  {
   "cell_type": "code",
   "execution_count": 1,
   "id": "8733ed2e",
   "metadata": {},
   "outputs": [
    {
     "name": "stdout",
     "output_type": "stream",
     "text": [
      "env: cluster_name=ngjason-akscluster\n",
      "env: resource_group=aks-gpu\n",
      "env: storage_account_name=ngjasonmultistorage\n",
      "env: tenant_a_container=tenanta\n",
      "env: tenant_b_container=tenantb\n",
      "env: subscription_id=bb608350-d9c5-4b2a-b61e-6df4034dbf07\n"
     ]
    }
   ],
   "source": [
    "%env cluster_name=ngjason-akscluster\n",
    "%env resource_group=aks-gpu\n",
    "%env storage_account_name=ngjasonmultistorage\n",
    "%env tenant_a_container=tenanta\n",
    "%env tenant_b_container=tenantb\n",
    "%env subscription_id=bb608350-d9c5-4b2a-b61e-6df4034dbf07"
   ]
  },
  {
   "cell_type": "code",
   "execution_count": 2,
   "id": "dd1b4ede",
   "metadata": {},
   "outputs": [
    {
     "name": "stdout",
     "output_type": "stream",
     "text": [
      "ngjason-akscluster\n",
      "aks-gpu\n",
      "ngjasonmultistorage\n",
      "tenanta\n",
      "tenantb\n",
      "bb608350-d9c5-4b2a-b61e-6df4034dbf07\n"
     ]
    }
   ],
   "source": [
    "%%bash\n",
    "echo $cluster_name\n",
    "echo $resource_group\n",
    "echo $storage_account_name\n",
    "echo $tenant_a_container\n",
    "echo $tenant_b_container\n",
    "echo $subscription_id"
   ]
  },
  {
   "cell_type": "markdown",
   "id": "89754378",
   "metadata": {},
   "source": [
    "## Connect to your cluster - Open a terminal where this jupyter notebook is running and run the command so that kubectl persists across all cells."
   ]
  },
  {
   "cell_type": "markdown",
   "id": "47bc5abe",
   "metadata": {},
   "source": [
    "<pre>az aks get-credentials --name $cluster_name -g $resource_group</pre>"
   ]
  },
  {
   "cell_type": "markdown",
   "id": "b3e297c2",
   "metadata": {},
   "source": [
    "## Enable workload identity on the cluster (This is a one-time setup and can take a while to complete, skip if you have already enabled this before)"
   ]
  },
  {
   "cell_type": "code",
   "execution_count": null,
   "id": "2b121052",
   "metadata": {},
   "outputs": [],
   "source": [
    "%%bash\n",
    "az aks update --resource-group $resource_group --name $cluster_name \\\n",
    "  --enable-oidc-issuer \\\n",
    "  --enable-workload-identity\n"
   ]
  },
  {
   "cell_type": "markdown",
   "id": "a464532c",
   "metadata": {},
   "source": [
    "## Create namespaces for each tenant"
   ]
  },
  {
   "cell_type": "code",
   "execution_count": 3,
   "id": "dd3924ef",
   "metadata": {},
   "outputs": [
    {
     "name": "stdout",
     "output_type": "stream",
     "text": [
      "namespace/tenant-a created\n",
      "namespace/tenant-b created\n"
     ]
    }
   ],
   "source": [
    "%%bash\n",
    "kubectl create namespace tenant-a\n",
    "kubectl create namespace tenant-b"
   ]
  },
  {
   "cell_type": "markdown",
   "id": "1cb808bd",
   "metadata": {},
   "source": [
    "## Create two node pools, one for each tenant"
   ]
  },
  {
   "cell_type": "code",
   "execution_count": 24,
   "id": "52d89115",
   "metadata": {},
   "outputs": [
    {
     "name": "stderr",
     "output_type": "stream",
     "text": [
      "/home/ngjason/.azure/cliextensions/aks-preview/azext_aks_preview/vendored_sdks/__init__.py:6: UserWarning: pkg_resources is deprecated as an API. See https://setuptools.pypa.io/en/latest/pkg_resources.html. The pkg_resources package is slated for removal as early as 2025-11-30. Refrain from using this package or pin to Setuptools<81.\n",
      "  __import__('pkg_resources').declare_namespace(__name__)\n",
      "WARNING: The behavior of this command has been altered by the following extension: aks-preview\n",
      "WARNING: The new node pool will enable SSH access, recommended to use '--ssh-access disabled' option to disable SSH access for the node pool to make it more secure.\n"
     ]
    },
    {
     "name": "stdout",
     "output_type": "stream",
     "text": [
      "{\n",
      "  \"artifactStreamingProfile\": null,\n",
      "  \"availabilityZones\": null,\n",
      "  \"capacityReservationGroupId\": null,\n",
      "  \"count\": 3,\n",
      "  \"creationData\": null,\n",
      "  \"currentOrchestratorVersion\": \"1.32.5\",\n",
      "  \"eTag\": \"c4ab5dee-201c-4910-8bd4-6c834ee11c16\",\n",
      "  \"enableAutoScaling\": false,\n",
      "  \"enableCustomCaTrust\": false,\n",
      "  \"enableEncryptionAtHost\": false,\n",
      "  \"enableFips\": false,\n",
      "  \"enableNodePublicIp\": false,\n",
      "  \"enableUltraSsd\": false,\n",
      "  \"gatewayProfile\": null,\n",
      "  \"gpuInstanceProfile\": null,\n",
      "  \"gpuProfile\": null,\n",
      "  \"hostGroupId\": null,\n",
      "  \"id\": \"/subscriptions/bb608350-d9c5-4b2a-b61e-6df4034dbf07/resourcegroups/aks-gpu/providers/Microsoft.ContainerService/managedClusters/ngjason-akscluster/agentPools/tenantpoola\",\n",
      "  \"kubeletConfig\": null,\n",
      "  \"kubeletDiskType\": \"OS\",\n",
      "  \"linuxOsConfig\": null,\n",
      "  \"localDnsProfile\": null,\n",
      "  \"maxCount\": null,\n",
      "  \"maxPods\": 250,\n",
      "  \"messageOfTheDay\": null,\n",
      "  \"minCount\": null,\n",
      "  \"mode\": \"User\",\n",
      "  \"name\": \"tenantpoola\",\n",
      "  \"networkProfile\": {\n",
      "    \"allowedHostPorts\": null,\n",
      "    \"applicationSecurityGroups\": null,\n",
      "    \"nodePublicIpTags\": null\n",
      "  },\n",
      "  \"nodeImageVersion\": \"AKSUbuntu-2204gen2containerd-202507.06.0\",\n",
      "  \"nodeInitializationTaints\": null,\n",
      "  \"nodeLabels\": {\n",
      "    \"tenantid\": \"tenanta\"\n",
      "  },\n",
      "  \"nodePublicIpPrefixId\": null,\n",
      "  \"nodeTaints\": [\n",
      "    \"tenantid=tenanta:NoSchedule\"\n",
      "  ],\n",
      "  \"orchestratorVersion\": \"1.32.5\",\n",
      "  \"osDiskSizeGb\": 128,\n",
      "  \"osDiskType\": \"Managed\",\n",
      "  \"osSku\": \"Ubuntu\",\n",
      "  \"osType\": \"Linux\",\n",
      "  \"podIpAllocationMode\": null,\n",
      "  \"podSubnetId\": null,\n",
      "  \"powerState\": {\n",
      "    \"code\": \"Running\"\n",
      "  },\n",
      "  \"provisioningState\": \"Succeeded\",\n",
      "  \"proximityPlacementGroupId\": null,\n",
      "  \"resourceGroup\": \"aks-gpu\",\n",
      "  \"scaleDownMode\": \"Delete\",\n",
      "  \"scaleSetEvictionPolicy\": null,\n",
      "  \"scaleSetPriority\": null,\n",
      "  \"securityProfile\": {\n",
      "    \"enableSecureBoot\": false,\n",
      "    \"enableVtpm\": false,\n",
      "    \"sshAccess\": \"LocalUser\"\n",
      "  },\n",
      "  \"spotMaxPrice\": null,\n",
      "  \"status\": null,\n",
      "  \"tags\": null,\n",
      "  \"type\": \"Microsoft.ContainerService/managedClusters/agentPools\",\n",
      "  \"typePropertiesType\": \"VirtualMachineScaleSets\",\n",
      "  \"upgradeSettings\": {\n",
      "    \"drainTimeoutInMinutes\": null,\n",
      "    \"maxBlockedNodes\": null,\n",
      "    \"maxSurge\": \"10%\",\n",
      "    \"maxUnavailable\": \"0\",\n",
      "    \"nodeSoakDurationInMinutes\": null,\n",
      "    \"undrainableNodeBehavior\": null\n",
      "  },\n",
      "  \"virtualMachineNodesStatus\": null,\n",
      "  \"virtualMachinesProfile\": null,\n",
      "  \"vmSize\": \"Standard_D4s_v3\",\n",
      "  \"vnetSubnetId\": null,\n",
      "  \"windowsProfile\": null,\n",
      "  \"workloadRuntime\": \"OCIContainer\"\n",
      "}\n"
     ]
    },
    {
     "name": "stderr",
     "output_type": "stream",
     "text": [
      "/home/ngjason/.azure/cliextensions/aks-preview/azext_aks_preview/vendored_sdks/__init__.py:6: UserWarning: pkg_resources is deprecated as an API. See https://setuptools.pypa.io/en/latest/pkg_resources.html. The pkg_resources package is slated for removal as early as 2025-11-30. Refrain from using this package or pin to Setuptools<81.\n",
      "  __import__('pkg_resources').declare_namespace(__name__)\n",
      "WARNING: The behavior of this command has been altered by the following extension: aks-preview\n",
      "ERROR: Invalid label:  . Label definition must be of format name=value.\n",
      "bash: line 15: --node-vm-size: command not found\n"
     ]
    },
    {
     "ename": "CalledProcessError",
     "evalue": "Command 'b'az aks nodepool add \\\\\\n  --name tenantpoola \\\\\\n  --cluster-name $cluster_name \\\\\\n  --resource-group $resource_group \\\\\\n  --node-taints tenantid=tenanta:NoSchedule \\\\\\n  --labels tenantid=tenanta \\\\\\n  --node-vm-size Standard_D4s_v3\\n\\naz aks nodepool add \\\\\\n  --name tenantpoolb \\\\\\n  --cluster-name $cluster_name \\\\\\n  --resource-group $resource_group \\\\\\n  --node-taints tenantid=tenantb:NoSchedule \\\\\\n  --labels tenantid=tenantb \\\\ \\n  --node-vm-size Standard_D4s_v3\\n'' returned non-zero exit status 127.",
     "output_type": "error",
     "traceback": [
      "\u001b[31m---------------------------------------------------------------------------\u001b[39m",
      "\u001b[31mCalledProcessError\u001b[39m                        Traceback (most recent call last)",
      "\u001b[36mCell\u001b[39m\u001b[36m \u001b[39m\u001b[32mIn[24]\u001b[39m\u001b[32m, line 1\u001b[39m\n\u001b[32m----> \u001b[39m\u001b[32m1\u001b[39m \u001b[43mget_ipython\u001b[49m\u001b[43m(\u001b[49m\u001b[43m)\u001b[49m\u001b[43m.\u001b[49m\u001b[43mrun_cell_magic\u001b[49m\u001b[43m(\u001b[49m\u001b[33;43m'\u001b[39;49m\u001b[33;43mbash\u001b[39;49m\u001b[33;43m'\u001b[39;49m\u001b[43m,\u001b[49m\u001b[43m \u001b[49m\u001b[33;43m'\u001b[39;49m\u001b[33;43m'\u001b[39;49m\u001b[43m,\u001b[49m\u001b[43m \u001b[49m\u001b[33;43m'\u001b[39;49m\u001b[33;43maz aks nodepool add \u001b[39;49m\u001b[38;5;130;43;01m\\\\\u001b[39;49;00m\u001b[38;5;130;43;01m\\n\u001b[39;49;00m\u001b[33;43m  --name tenantpoola \u001b[39;49m\u001b[38;5;130;43;01m\\\\\u001b[39;49;00m\u001b[38;5;130;43;01m\\n\u001b[39;49;00m\u001b[33;43m  --cluster-name $cluster_name \u001b[39;49m\u001b[38;5;130;43;01m\\\\\u001b[39;49;00m\u001b[38;5;130;43;01m\\n\u001b[39;49;00m\u001b[33;43m  --resource-group $resource_group \u001b[39;49m\u001b[38;5;130;43;01m\\\\\u001b[39;49;00m\u001b[38;5;130;43;01m\\n\u001b[39;49;00m\u001b[33;43m  --node-taints tenantid=tenanta:NoSchedule \u001b[39;49m\u001b[38;5;130;43;01m\\\\\u001b[39;49;00m\u001b[38;5;130;43;01m\\n\u001b[39;49;00m\u001b[33;43m  --labels tenantid=tenanta \u001b[39;49m\u001b[38;5;130;43;01m\\\\\u001b[39;49;00m\u001b[38;5;130;43;01m\\n\u001b[39;49;00m\u001b[33;43m  --node-vm-size Standard_D4s_v3\u001b[39;49m\u001b[38;5;130;43;01m\\n\u001b[39;49;00m\u001b[38;5;130;43;01m\\n\u001b[39;49;00m\u001b[33;43maz aks nodepool add \u001b[39;49m\u001b[38;5;130;43;01m\\\\\u001b[39;49;00m\u001b[38;5;130;43;01m\\n\u001b[39;49;00m\u001b[33;43m  --name tenantpoolb \u001b[39;49m\u001b[38;5;130;43;01m\\\\\u001b[39;49;00m\u001b[38;5;130;43;01m\\n\u001b[39;49;00m\u001b[33;43m  --cluster-name $cluster_name \u001b[39;49m\u001b[38;5;130;43;01m\\\\\u001b[39;49;00m\u001b[38;5;130;43;01m\\n\u001b[39;49;00m\u001b[33;43m  --resource-group $resource_group \u001b[39;49m\u001b[38;5;130;43;01m\\\\\u001b[39;49;00m\u001b[38;5;130;43;01m\\n\u001b[39;49;00m\u001b[33;43m  --node-taints tenantid=tenantb:NoSchedule \u001b[39;49m\u001b[38;5;130;43;01m\\\\\u001b[39;49;00m\u001b[38;5;130;43;01m\\n\u001b[39;49;00m\u001b[33;43m  --labels tenantid=tenantb \u001b[39;49m\u001b[38;5;130;43;01m\\\\\u001b[39;49;00m\u001b[33;43m \u001b[39;49m\u001b[38;5;130;43;01m\\n\u001b[39;49;00m\u001b[33;43m  --node-vm-size Standard_D4s_v3\u001b[39;49m\u001b[38;5;130;43;01m\\n\u001b[39;49;00m\u001b[33;43m'\u001b[39;49m\u001b[43m)\u001b[49m\n",
      "\u001b[36mFile \u001b[39m\u001b[32m~/ai-foundry-agent-service-multitenant/venv/lib/python3.12/site-packages/IPython/core/interactiveshell.py:2549\u001b[39m, in \u001b[36mInteractiveShell.run_cell_magic\u001b[39m\u001b[34m(self, magic_name, line, cell)\u001b[39m\n\u001b[32m   2547\u001b[39m \u001b[38;5;28;01mwith\u001b[39;00m \u001b[38;5;28mself\u001b[39m.builtin_trap:\n\u001b[32m   2548\u001b[39m     args = (magic_arg_s, cell)\n\u001b[32m-> \u001b[39m\u001b[32m2549\u001b[39m     result = \u001b[43mfn\u001b[49m\u001b[43m(\u001b[49m\u001b[43m*\u001b[49m\u001b[43margs\u001b[49m\u001b[43m,\u001b[49m\u001b[43m \u001b[49m\u001b[43m*\u001b[49m\u001b[43m*\u001b[49m\u001b[43mkwargs\u001b[49m\u001b[43m)\u001b[49m\n\u001b[32m   2551\u001b[39m \u001b[38;5;66;03m# The code below prevents the output from being displayed\u001b[39;00m\n\u001b[32m   2552\u001b[39m \u001b[38;5;66;03m# when using magics with decorator @output_can_be_silenced\u001b[39;00m\n\u001b[32m   2553\u001b[39m \u001b[38;5;66;03m# when the last Python token in the expression is a ';'.\u001b[39;00m\n\u001b[32m   2554\u001b[39m \u001b[38;5;28;01mif\u001b[39;00m \u001b[38;5;28mgetattr\u001b[39m(fn, magic.MAGIC_OUTPUT_CAN_BE_SILENCED, \u001b[38;5;28;01mFalse\u001b[39;00m):\n",
      "\u001b[36mFile \u001b[39m\u001b[32m~/ai-foundry-agent-service-multitenant/venv/lib/python3.12/site-packages/IPython/core/magics/script.py:159\u001b[39m, in \u001b[36mScriptMagics._make_script_magic.<locals>.named_script_magic\u001b[39m\u001b[34m(line, cell)\u001b[39m\n\u001b[32m    157\u001b[39m \u001b[38;5;28;01melse\u001b[39;00m:\n\u001b[32m    158\u001b[39m     line = script\n\u001b[32m--> \u001b[39m\u001b[32m159\u001b[39m \u001b[38;5;28;01mreturn\u001b[39;00m \u001b[38;5;28;43mself\u001b[39;49m\u001b[43m.\u001b[49m\u001b[43mshebang\u001b[49m\u001b[43m(\u001b[49m\u001b[43mline\u001b[49m\u001b[43m,\u001b[49m\u001b[43m \u001b[49m\u001b[43mcell\u001b[49m\u001b[43m)\u001b[49m\n",
      "\u001b[36mFile \u001b[39m\u001b[32m~/ai-foundry-agent-service-multitenant/venv/lib/python3.12/site-packages/IPython/core/magics/script.py:336\u001b[39m, in \u001b[36mScriptMagics.shebang\u001b[39m\u001b[34m(self, line, cell)\u001b[39m\n\u001b[32m    331\u001b[39m \u001b[38;5;28;01mif\u001b[39;00m args.raise_error \u001b[38;5;129;01mand\u001b[39;00m p.returncode != \u001b[32m0\u001b[39m:\n\u001b[32m    332\u001b[39m     \u001b[38;5;66;03m# If we get here and p.returncode is still None, we must have\u001b[39;00m\n\u001b[32m    333\u001b[39m     \u001b[38;5;66;03m# killed it but not yet seen its return code. We don't wait for it,\u001b[39;00m\n\u001b[32m    334\u001b[39m     \u001b[38;5;66;03m# in case it's stuck in uninterruptible sleep. -9 = SIGKILL\u001b[39;00m\n\u001b[32m    335\u001b[39m     rc = p.returncode \u001b[38;5;129;01mor\u001b[39;00m -\u001b[32m9\u001b[39m\n\u001b[32m--> \u001b[39m\u001b[32m336\u001b[39m     \u001b[38;5;28;01mraise\u001b[39;00m CalledProcessError(rc, cell)\n",
      "\u001b[31mCalledProcessError\u001b[39m: Command 'b'az aks nodepool add \\\\\\n  --name tenantpoola \\\\\\n  --cluster-name $cluster_name \\\\\\n  --resource-group $resource_group \\\\\\n  --node-taints tenantid=tenanta:NoSchedule \\\\\\n  --labels tenantid=tenanta \\\\\\n  --node-vm-size Standard_D4s_v3\\n\\naz aks nodepool add \\\\\\n  --name tenantpoolb \\\\\\n  --cluster-name $cluster_name \\\\\\n  --resource-group $resource_group \\\\\\n  --node-taints tenantid=tenantb:NoSchedule \\\\\\n  --labels tenantid=tenantb \\\\ \\n  --node-vm-size Standard_D4s_v3\\n'' returned non-zero exit status 127."
     ]
    }
   ],
   "source": [
    "%%bash\n",
    "az aks nodepool add \\\n",
    "  --name tenantpoola \\\n",
    "  --cluster-name $cluster_name \\\n",
    "  --resource-group $resource_group \\\n",
    "  --node-taints tenantid=tenanta:NoSchedule \\\n",
    "  --labels tenantid=tenanta \\\n",
    "  --node-vm-size Standard_D4s_v3\n",
    "\n",
    "az aks nodepool add \\\n",
    "  --name tenantpoolb \\\n",
    "  --cluster-name $cluster_name \\\n",
    "  --resource-group $resource_group \\\n",
    "  --node-taints tenantid=tenantb:NoSchedule \\\n",
    "  --labels tenantid=tenantb \\ \n",
    "  --node-vm-size Standard_D4s_v3"
   ]
  },
  {
   "cell_type": "markdown",
   "id": "c20e3c0a",
   "metadata": {},
   "source": [
    "## Create managed identities for each tenant"
   ]
  },
  {
   "cell_type": "code",
   "execution_count": 5,
   "id": "59422f43",
   "metadata": {},
   "outputs": [
    {
     "name": "stdout",
     "output_type": "stream",
     "text": [
      "{\n",
      "  \"clientId\": \"7d4712d9-20c4-45e8-b974-7d3e3baf7ca1\",\n",
      "  \"id\": \"/subscriptions/bb608350-d9c5-4b2a-b61e-6df4034dbf07/resourcegroups/aks-gpu/providers/Microsoft.ManagedIdentity/userAssignedIdentities/mi-tenant-a\",\n",
      "  \"location\": \"eastus2\",\n",
      "  \"name\": \"mi-tenant-a\",\n",
      "  \"principalId\": \"9a9f75ee-0b4a-4f90-a933-81e927f69af5\",\n",
      "  \"resourceGroup\": \"aks-gpu\",\n",
      "  \"systemData\": null,\n",
      "  \"tags\": {},\n",
      "  \"tenantId\": \"16b3c013-d300-468d-ac64-7eda0820b6d3\",\n",
      "  \"type\": \"Microsoft.ManagedIdentity/userAssignedIdentities\"\n",
      "}\n",
      "{\n",
      "  \"clientId\": \"50032f0b-9a7c-41e6-ac39-f3181b6c7fb0\",\n",
      "  \"id\": \"/subscriptions/bb608350-d9c5-4b2a-b61e-6df4034dbf07/resourcegroups/aks-gpu/providers/Microsoft.ManagedIdentity/userAssignedIdentities/mi-tenant-b\",\n",
      "  \"location\": \"eastus2\",\n",
      "  \"name\": \"mi-tenant-b\",\n",
      "  \"principalId\": \"8e71fbf8-4d3e-40e3-b0d0-2af97a58a0f1\",\n",
      "  \"resourceGroup\": \"aks-gpu\",\n",
      "  \"systemData\": null,\n",
      "  \"tags\": {},\n",
      "  \"tenantId\": \"16b3c013-d300-468d-ac64-7eda0820b6d3\",\n",
      "  \"type\": \"Microsoft.ManagedIdentity/userAssignedIdentities\"\n",
      "}\n"
     ]
    }
   ],
   "source": [
    "%%bash\n",
    "az identity create --resource-group aks-gpu --name mi-tenant-a\n",
    "az identity create --resource-group aks-gpu --name mi-tenant-b"
   ]
  },
  {
   "cell_type": "markdown",
   "id": "ceb7c81c",
   "metadata": {},
   "source": [
    "## Create RBAC and ABAC policies for each container within blob storage allowing managed identity to connect"
   ]
  },
  {
   "cell_type": "code",
   "execution_count": 18,
   "id": "bdbb3117",
   "metadata": {},
   "outputs": [
    {
     "name": "stderr",
     "output_type": "stream",
     "text": [
      "WARNING: Argument '--condition' is in preview and under development. Reference and support levels: https://aka.ms/CLI_refstatus\n",
      "WARNING: Argument '--condition-version' is in preview and under development. Reference and support levels: https://aka.ms/CLI_refstatus\n"
     ]
    },
    {
     "name": "stdout",
     "output_type": "stream",
     "text": [
      "{\n",
      "  \"condition\": \"((!(ActionMatches{'Microsoft.Storage/storageAccounts/blobServices/containers/blobs/*'})) OR (@Resource[Microsoft.Storage/storageAccounts/blobServices/containers:name] StringEquals 'tenanta'))\",\n",
      "  \"conditionVersion\": \"2.0\",\n",
      "  \"createdBy\": \"3ce00cd3-fa53-4787-bee8-577cc1b1f68f\",\n",
      "  \"createdOn\": \"2025-07-01T09:51:56.960773+00:00\",\n",
      "  \"delegatedManagedIdentityResourceId\": null,\n",
      "  \"description\": null,\n",
      "  \"id\": \"/subscriptions/bb608350-d9c5-4b2a-b61e-6df4034dbf07/resourceGroups/aks-gpu/providers/Microsoft.Storage/storageAccounts/ngjasonmultistorage/blobServices/default/containers/tenanta/providers/Microsoft.Authorization/roleAssignments/b642e93c-2c0a-45b9-8cd7-d3e3c3d35b3d\",\n",
      "  \"name\": \"b642e93c-2c0a-45b9-8cd7-d3e3c3d35b3d\",\n",
      "  \"principalId\": \"9a9f75ee-0b4a-4f90-a933-81e927f69af5\",\n",
      "  \"principalName\": \"7d4712d9-20c4-45e8-b974-7d3e3baf7ca1\",\n",
      "  \"principalType\": \"ServicePrincipal\",\n",
      "  \"resourceGroup\": \"aks-gpu\",\n",
      "  \"roleDefinitionId\": \"/subscriptions/bb608350-d9c5-4b2a-b61e-6df4034dbf07/providers/Microsoft.Authorization/roleDefinitions/ba92f5b4-2d11-453d-a403-e96b0029c9fe\",\n",
      "  \"roleDefinitionName\": \"Storage Blob Data Contributor\",\n",
      "  \"scope\": \"/subscriptions/bb608350-d9c5-4b2a-b61e-6df4034dbf07/resourceGroups/aks-gpu/providers/Microsoft.Storage/storageAccounts/ngjasonmultistorage/blobServices/default/containers/tenanta\",\n",
      "  \"type\": \"Microsoft.Authorization/roleAssignments\",\n",
      "  \"updatedBy\": \"3ce00cd3-fa53-4787-bee8-577cc1b1f68f\",\n",
      "  \"updatedOn\": \"2025-07-01T09:51:56.960773+00:00\"\n",
      "}\n"
     ]
    },
    {
     "name": "stderr",
     "output_type": "stream",
     "text": [
      "WARNING: Argument '--condition' is in preview and under development. Reference and support levels: https://aka.ms/CLI_refstatus\n",
      "WARNING: Argument '--condition-version' is in preview and under development. Reference and support levels: https://aka.ms/CLI_refstatus\n"
     ]
    },
    {
     "name": "stdout",
     "output_type": "stream",
     "text": [
      "{\n",
      "  \"condition\": \"((!(ActionMatches{'Microsoft.Storage/storageAccounts/blobServices/containers/blobs/*'})) OR (@Resource[Microsoft.Storage/storageAccounts/blobServices/containers:name] StringEquals 'tenantb'))\",\n",
      "  \"conditionVersion\": \"2.0\",\n",
      "  \"createdBy\": \"3ce00cd3-fa53-4787-bee8-577cc1b1f68f\",\n",
      "  \"createdOn\": \"2025-07-01T09:52:08.662860+00:00\",\n",
      "  \"delegatedManagedIdentityResourceId\": null,\n",
      "  \"description\": null,\n",
      "  \"id\": \"/subscriptions/bb608350-d9c5-4b2a-b61e-6df4034dbf07/resourceGroups/aks-gpu/providers/Microsoft.Storage/storageAccounts/ngjasonmultistorage/blobServices/default/containers/tenantb/providers/Microsoft.Authorization/roleAssignments/33f84ddc-de17-4f82-a9df-e33dcf956edf\",\n",
      "  \"name\": \"33f84ddc-de17-4f82-a9df-e33dcf956edf\",\n",
      "  \"principalId\": \"8e71fbf8-4d3e-40e3-b0d0-2af97a58a0f1\",\n",
      "  \"principalName\": \"50032f0b-9a7c-41e6-ac39-f3181b6c7fb0\",\n",
      "  \"principalType\": \"ServicePrincipal\",\n",
      "  \"resourceGroup\": \"aks-gpu\",\n",
      "  \"roleDefinitionId\": \"/subscriptions/bb608350-d9c5-4b2a-b61e-6df4034dbf07/providers/Microsoft.Authorization/roleDefinitions/ba92f5b4-2d11-453d-a403-e96b0029c9fe\",\n",
      "  \"roleDefinitionName\": \"Storage Blob Data Contributor\",\n",
      "  \"scope\": \"/subscriptions/bb608350-d9c5-4b2a-b61e-6df4034dbf07/resourceGroups/aks-gpu/providers/Microsoft.Storage/storageAccounts/ngjasonmultistorage/blobServices/default/containers/tenantb\",\n",
      "  \"type\": \"Microsoft.Authorization/roleAssignments\",\n",
      "  \"updatedBy\": \"3ce00cd3-fa53-4787-bee8-577cc1b1f68f\",\n",
      "  \"updatedOn\": \"2025-07-01T09:52:08.662860+00:00\"\n",
      "}\n"
     ]
    }
   ],
   "source": [
    "%%bash\n",
    "az role assignment create \\\n",
    "  --assignee $(az identity show --name mi-tenant-a --resource-group aks-gpu --query principalId -o tsv) \\\n",
    "  --role \"Storage Blob Data Contributor\" \\\n",
    "  --scope \"/subscriptions/${subscription_id}/resourceGroups/${resource_group}/providers/Microsoft.Storage/storageAccounts/${storage_account_name}/blobServices/default/containers/tenanta\" \\\n",
    "  --condition \"((!(ActionMatches{'Microsoft.Storage/storageAccounts/blobServices/containers/blobs/*'})) OR (@Resource[Microsoft.Storage/storageAccounts/blobServices/containers:name] StringEquals 'tenanta'))\" \\\n",
    "  --condition-version \"2.0\"\n",
    "  \n",
    "az role assignment create \\\n",
    "  --assignee $(az identity show --name mi-tenant-b --resource-group aks-gpu --query principalId -o tsv) \\\n",
    "  --role \"Storage Blob Data Contributor\" \\\n",
    "  --scope \"/subscriptions/${subscription_id}/resourceGroups/${resource_group}/providers/Microsoft.Storage/storageAccounts/${storage_account_name}/blobServices/default/containers/tenantb\" \\\n",
    "  --condition \"((!(ActionMatches{'Microsoft.Storage/storageAccounts/blobServices/containers/blobs/*'})) OR (@Resource[Microsoft.Storage/storageAccounts/blobServices/containers:name] StringEquals 'tenantb'))\" \\\n",
    "  --condition-version \"2.0\""
   ]
  },
  {
   "cell_type": "markdown",
   "id": "42461e74",
   "metadata": {},
   "source": [
    "## Create Service account and federated credential. Pods will use service account to obtain temporary credentials via OIDC"
   ]
  },
  {
   "cell_type": "code",
   "execution_count": 7,
   "id": "f7e9da0f",
   "metadata": {},
   "outputs": [
    {
     "name": "stdout",
     "output_type": "stream",
     "text": [
      "serviceaccount/storage-access-sa-tenant-a created\n",
      "serviceaccount/storage-access-sa-tenant-b created\n"
     ]
    }
   ],
   "source": [
    "%%bash\n",
    "export tenant_a_identity_id=$(az identity show --name mi-tenant-a --resource-group $resource_group --query clientId -o tsv)\n",
    "export tenant_b_identity_id=$(az identity show --name mi-tenant-b --resource-group $resource_group --query clientId -o tsv)\n",
    "\n",
    "kubectl apply -n tenant-a -f - <<EOF\n",
    "apiVersion: v1\n",
    "kind: ServiceAccount\n",
    "metadata:\n",
    "  name: storage-access-sa-tenant-a\n",
    "  namespace: tenant-a\n",
    "  annotations:\n",
    "    azure.workload.identity/client-id: $tenant_a_identity_id\n",
    "  labels:\n",
    "    azure.workload.identity/use: \"true\"\n",
    "EOF\n",
    "\n",
    "kubectl apply -n tenant-b -f - <<EOF\n",
    "apiVersion: v1\n",
    "kind: ServiceAccount\n",
    "metadata:\n",
    "  name: storage-access-sa-tenant-b\n",
    "  namespace: tenant-b\n",
    "  annotations:\n",
    "    azure.workload.identity/client-id: $tenant_b_identity_id\n",
    "  labels:\n",
    "    azure.workload.identity/use: \"true\"\n",
    "EOF"
   ]
  },
  {
   "cell_type": "code",
   "execution_count": 8,
   "id": "e78160fd",
   "metadata": {},
   "outputs": [
    {
     "name": "stderr",
     "output_type": "stream",
     "text": [
      "/home/ngjason/.azure/cliextensions/aks-preview/azext_aks_preview/vendored_sdks/__init__.py:6: UserWarning: pkg_resources is deprecated as an API. See https://setuptools.pypa.io/en/latest/pkg_resources.html. The pkg_resources package is slated for removal as early as 2025-11-30. Refrain from using this package or pin to Setuptools<81.\n",
      "  __import__('pkg_resources').declare_namespace(__name__)\n",
      "WARNING: The behavior of this command has been altered by the following extension: aks-preview\n"
     ]
    },
    {
     "name": "stdout",
     "output_type": "stream",
     "text": [
      "https://eastus2.oic.prod-aks.azure.com/16b3c013-d300-468d-ac64-7eda0820b6d3/a9002abf-667e-4f02-a436-d9bd423afe81/\n",
      "{\n",
      "  \"audiences\": [\n",
      "    \"api://AzureADTokenExchange\"\n",
      "  ],\n",
      "  \"id\": \"/subscriptions/bb608350-d9c5-4b2a-b61e-6df4034dbf07/resourcegroups/aks-gpu/providers/Microsoft.ManagedIdentity/userAssignedIdentities/mi-tenant-a/federatedIdentityCredentials/aks-federated-credential\",\n",
      "  \"issuer\": \"https://eastus2.oic.prod-aks.azure.com/16b3c013-d300-468d-ac64-7eda0820b6d3/a9002abf-667e-4f02-a436-d9bd423afe81/\",\n",
      "  \"name\": \"aks-federated-credential\",\n",
      "  \"resourceGroup\": \"aks-gpu\",\n",
      "  \"subject\": \"system:serviceaccount:tenant-a:storage-access-sa-tenant-a\",\n",
      "  \"type\": \"Microsoft.ManagedIdentity/userAssignedIdentities/federatedIdentityCredentials\"\n",
      "}\n",
      "{\n",
      "  \"audiences\": [\n",
      "    \"api://AzureADTokenExchange\"\n",
      "  ],\n",
      "  \"id\": \"/subscriptions/bb608350-d9c5-4b2a-b61e-6df4034dbf07/resourcegroups/aks-gpu/providers/Microsoft.ManagedIdentity/userAssignedIdentities/mi-tenant-b/federatedIdentityCredentials/aks-federated-credential\",\n",
      "  \"issuer\": \"https://eastus2.oic.prod-aks.azure.com/16b3c013-d300-468d-ac64-7eda0820b6d3/a9002abf-667e-4f02-a436-d9bd423afe81/\",\n",
      "  \"name\": \"aks-federated-credential\",\n",
      "  \"resourceGroup\": \"aks-gpu\",\n",
      "  \"subject\": \"system:serviceaccount:tenant-b:storage-access-sa-tenant-b\",\n",
      "  \"type\": \"Microsoft.ManagedIdentity/userAssignedIdentities/federatedIdentityCredentials\"\n",
      "}\n"
     ]
    }
   ],
   "source": [
    "%%bash\n",
    "export SERVICE_ACCOUNT_ISSUER=$(az aks show \\\n",
    "  --resource-group $resource_group \\\n",
    "  --name $cluster_name \\\n",
    "  --query oidcIssuerProfile.issuerUrl -o tsv)\n",
    "\n",
    "echo $SERVICE_ACCOUNT_ISSUER\n",
    "\n",
    "az identity federated-credential create \\\n",
    "  --name \"aks-federated-credential\" \\\n",
    "  --identity-name mi-tenant-a \\\n",
    "  --resource-group $resource_group \\\n",
    "  --issuer $SERVICE_ACCOUNT_ISSUER \\\n",
    "  --subject \"system:serviceaccount:tenant-a:storage-access-sa-tenant-a\"\n",
    "\n",
    "az identity federated-credential create \\\n",
    "  --name \"aks-federated-credential\" \\\n",
    "  --identity-name mi-tenant-b \\\n",
    "  --resource-group $resource_group \\\n",
    "  --issuer $SERVICE_ACCOUNT_ISSUER \\\n",
    "  --subject \"system:serviceaccount:tenant-b:storage-access-sa-tenant-b\""
   ]
  },
  {
   "cell_type": "markdown",
   "id": "8daa8dfa",
   "metadata": {},
   "source": [
    "## Create test pods"
   ]
  },
  {
   "cell_type": "markdown",
   "id": "5cbf8ae5",
   "metadata": {},
   "source": [
    "## Check that pods are scheduled on the correct node"
   ]
  },
  {
   "cell_type": "code",
   "execution_count": 9,
   "id": "2162b257",
   "metadata": {},
   "outputs": [
    {
     "name": "stdout",
     "output_type": "stream",
     "text": [
      "deployment.apps/tenant-a-app created\n",
      "deployment.apps/tenant-b-app created\n"
     ]
    }
   ],
   "source": [
    "%%bash\n",
    "\n",
    "kubectl apply -n tenant-a -f - <<EOF\n",
    "apiVersion: apps/v1\n",
    "kind: Deployment\n",
    "metadata:\n",
    "  name: tenant-a-app\n",
    "  labels:\n",
    "    azure.workload.identity/use: \"true\"  # Required for workload identity\n",
    "spec:\n",
    "  selector:\n",
    "    matchLabels:\n",
    "      tenantid: tenanta\n",
    "  template:\n",
    "    metadata:\n",
    "      labels:\n",
    "        tenantid: tenanta\n",
    "        azure.workload.identity/use: \"true\"  # Must be on pod template\n",
    "    spec:\n",
    "      serviceAccountName: storage-access-sa-tenant-a  # Reference your service account\n",
    "      nodeSelector:\n",
    "        tenantid: tenanta\n",
    "      tolerations:\n",
    "      - key: \"tenantid\"\n",
    "        operator: \"Equal\"\n",
    "        value: \"tenanta\"\n",
    "        effect: \"NoSchedule\"\n",
    "      containers:\n",
    "      - name: nginx\n",
    "        image: nginx\n",
    "        env:\n",
    "          - name: TENANT_ID\n",
    "            value: \"tenanta\"  # Environment variable to identify tenant\n",
    "EOF\n",
    "\n",
    "kubectl apply -n tenant-b -f - <<EOF\n",
    "apiVersion: apps/v1\n",
    "kind: Deployment\n",
    "metadata:\n",
    "  name: tenant-b-app\n",
    "  labels:\n",
    "    azure.workload.identity/use: \"true\"  # Required for workload identity\n",
    "spec:\n",
    "  selector:\n",
    "    matchLabels:\n",
    "      tenantid: tenantb\n",
    "  template:\n",
    "    metadata:\n",
    "      labels:\n",
    "        tenantid: tenantb\n",
    "        azure.workload.identity/use: \"true\"  # Must be on pod template\n",
    "    spec:\n",
    "      serviceAccountName: storage-access-sa-tenant-b  # Reference your service account\n",
    "      nodeSelector:\n",
    "        tenantid: tenantb\n",
    "      tolerations:\n",
    "      - key: \"tenantid\"\n",
    "        operator: \"Equal\"\n",
    "        value: \"tenantb\"\n",
    "        effect: \"NoSchedule\"\n",
    "      containers:\n",
    "      - name: nginx\n",
    "        image: nginx\n",
    "        env:\n",
    "          - name: TENANT_ID\n",
    "            value: \"tenantb\"\n",
    "EOF"
   ]
  },
  {
   "cell_type": "markdown",
   "id": "66bf1409",
   "metadata": {},
   "source": [
    "### If you see your pods stuck in pending state, it is most likely that you dont have the correct labels on the nodes. Check from the portal if the taints and labels are set correctly"
   ]
  },
  {
   "cell_type": "code",
   "execution_count": 10,
   "id": "b4156edb",
   "metadata": {},
   "outputs": [
    {
     "name": "stdout",
     "output_type": "stream",
     "text": [
      "NAME                            READY   STATUS    RESTARTS   AGE   IP             NODE                                  NOMINATED NODE   READINESS GATES\n",
      "tenant-a-app-5bfbbd8477-9fjk4   1/1     Running   0          5s    10.244.4.200   aks-tenantpoola-12478992-vmss000002   <none>           <none>\n",
      "NAME                          READY   STATUS    RESTARTS   AGE   IP            NODE                                  NOMINATED NODE   READINESS GATES\n",
      "tenant-b-app-c798fbf5-srsxv   1/1     Running   0          5s    10.244.7.65   aks-tenantpoolb-15486632-vmss000000   <none>           <none>\n"
     ]
    }
   ],
   "source": [
    "%%bash\n",
    "kubectl get pods -o wide -n tenant-a\n",
    "kubectl get pods -o wide -n tenant-b"
   ]
  },
  {
   "cell_type": "markdown",
   "id": "3fa2d97a",
   "metadata": {},
   "source": []
  },
  {
   "cell_type": "markdown",
   "id": "53e1c112",
   "metadata": {},
   "source": [
    "## Test out the tenant isolation by making calls to blob storage\n",
    "\n",
    "**Update the blob account url with your own blob storage url in app.py**\n",
    "\n",
    "Expected results:\\\n",
    "pod A -> tenant A container ✅ \\\n",
    "pod A -> tenant B container ❌ \\\n",
    "\\\n",
    "pod B -> tenant A container ❌ \\\n",
    "pod B -> tenant B container ✅\n"
   ]
  },
  {
   "cell_type": "code",
   "execution_count": null,
   "id": "334d85e7",
   "metadata": {},
   "outputs": [],
   "source": [
    "%%bash\n",
    "export tenant_a_pod=$(kubectl get pods -n tenant-a -o jsonpath='{.items[0].metadata.name}')\n",
    "kubectl cp -n tenant-a  ./app.py $tenant_a_pod:/tmp/app.py\n",
    "kubectl cp -n tenant-a  ./install.sh $tenant_a_pod:/tmp/install.sh\n",
    "kubectl exec -it pod/$tenant_a_pod -n tenant-a -- /bin/bash -c \"chmod +x /tmp/install.sh && /tmp/install.sh\""
   ]
  },
  {
   "cell_type": "code",
   "execution_count": null,
   "id": "dc71d749",
   "metadata": {},
   "outputs": [],
   "source": [
    "%%bash\n",
    "export tenant_b_pod=$(kubectl get pods -n tenant-b -o jsonpath='{.items[0].metadata.name}')\n",
    "kubectl cp -n tenant-b  ./app.py $tenant_b_pod:/tmp/app.py\n",
    "kubectl cp -n tenant-b  ./install.sh $tenant_b_pod:/tmp/install.sh\n",
    "kubectl exec -it pod/$tenant_b_pod -n tenant-b -- /bin/bash -c \"chmod +x /tmp/install.sh && /tmp/install.sh\""
   ]
  },
  {
   "cell_type": "code",
   "execution_count": 22,
   "id": "e468a5b7",
   "metadata": {},
   "outputs": [
    {
     "name": "stderr",
     "output_type": "stream",
     "text": [
      "Unable to use a TTY - input is not a terminal or the right kind of file\n"
     ]
    },
    {
     "name": "stdout",
     "output_type": "stream",
     "text": [
      "Connecting to Azure Blob Storage for Tenant A\n",
      "tenant-a-file.txt\n",
      "\u001b[32m✅ Successfully connected to tenant A container\u001b[0m\n",
      "Connecting to Azure Blob Storage for Tenant B\n",
      "An error occurred: This request is not authorized to perform this operation using this permission.\n",
      "RequestId:d7e7297f-e01e-00e3-1ae4-fa074a000000\n",
      "Time:2025-07-22T08:42:16.2270832Z\n",
      "ErrorCode:AuthorizationPermissionMismatch\n",
      "Content: <?xml version=\"1.0\" encoding=\"utf-8\"?><Error><Code>AuthorizationPermissionMismatch</Code><Message>This request is not authorized to perform this operation using this permission.\n",
      "RequestId:d7e7297f-e01e-00e3-1ae4-fa074a000000\n",
      "Time:2025-07-22T08:42:16.2270832Z</Message></Error>\n",
      "\u001b[31m❌ Failed to connect to tenant B container\u001b[0m\n"
     ]
    }
   ],
   "source": [
    "%%bash\n",
    "export tenant_a_pod=$(kubectl get pods -n tenant-a -o jsonpath='{.items[0].metadata.name}')\n",
    "kubectl exec -it pod/$tenant_a_pod -n tenant-a -- /bin/bash -c \"python3 /tmp/app.py\""
   ]
  },
  {
   "cell_type": "code",
   "execution_count": 21,
   "id": "b2198698",
   "metadata": {},
   "outputs": [
    {
     "name": "stderr",
     "output_type": "stream",
     "text": [
      "Unable to use a TTY - input is not a terminal or the right kind of file\n"
     ]
    },
    {
     "name": "stdout",
     "output_type": "stream",
     "text": [
      "Connecting to Azure Blob Storage for Tenant A\n",
      "An error occurred: This request is not authorized to perform this operation using this permission.\n",
      "RequestId:eccf259b-a01e-0074-44e4-fa5147000000\n",
      "Time:2025-07-22T08:42:06.9807573Z\n",
      "ErrorCode:AuthorizationPermissionMismatch\n",
      "Content: <?xml version=\"1.0\" encoding=\"utf-8\"?><Error><Code>AuthorizationPermissionMismatch</Code><Message>This request is not authorized to perform this operation using this permission.\n",
      "RequestId:eccf259b-a01e-0074-44e4-fa5147000000\n",
      "Time:2025-07-22T08:42:06.9807573Z</Message></Error>\n",
      "\u001b[31m❌ Failed to connect to tenant A container\u001b[0m\n",
      "Connecting to Azure Blob Storage for Tenant B\n",
      "tenant-b-file.txt\n",
      "\u001b[32m✅ Successfully connected to tenant B container\u001b[0m\n"
     ]
    }
   ],
   "source": [
    "%%bash\n",
    "export tenant_b_pod=$(kubectl get pods -n tenant-b -o jsonpath='{.items[0].metadata.name}')\n",
    "kubectl exec -it pod/$tenant_b_pod -n tenant-b -- /bin/bash -c \"python3 /tmp/app.py\""
   ]
  },
  {
   "cell_type": "markdown",
   "id": "b4cf8960",
   "metadata": {},
   "source": []
  },
  {
   "cell_type": "markdown",
   "id": "bc05f7f5",
   "metadata": {},
   "source": []
  }
 ],
 "metadata": {
  "kernelspec": {
   "display_name": "venv",
   "language": "python",
   "name": "python3"
  },
  "language_info": {
   "codemirror_mode": {
    "name": "ipython",
    "version": 3
   },
   "file_extension": ".py",
   "mimetype": "text/x-python",
   "name": "python",
   "nbconvert_exporter": "python",
   "pygments_lexer": "ipython3",
   "version": "3.12.3"
  }
 },
 "nbformat": 4,
 "nbformat_minor": 5
}
